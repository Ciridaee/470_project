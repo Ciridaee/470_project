{
 "cells": [
  {
   "cell_type": "markdown",
   "id": "bebf3c4f",
   "metadata": {},
   "source": [
    "Yöntem 2 "
   ]
  },
  {
   "cell_type": "markdown",
   "id": "0c69f44c",
   "metadata": {},
   "source": [
    "veri yükleme ve zaman hizzalama"
   ]
  },
  {
   "cell_type": "code",
   "execution_count": 384,
   "id": "9171af15",
   "metadata": {},
   "outputs": [],
   "source": [
    "import pandas as pd\n",
    "from sklearn.utils.class_weight import compute_sample_weight\n",
    "from sklearn.model_selection import cross_val_score\n",
    "from sklearn.linear_model import LogisticRegression\n",
    "import numpy as np\n",
    "import re\n",
    "import string\n",
    "import nltk\n",
    "import spacy\n",
    "from textstat import flesch_reading_ease, automated_readability_index\n",
    "from nltk.sentiment.vader import SentimentIntensityAnalyzer\n",
    "from sklearn.feature_extraction.text import TfidfVectorizer\n",
    "from sklearn.decomposition import PCA\n",
    "from sklearn.preprocessing import StandardScaler, PolynomialFeatures\n",
    "from sklearn.model_selection import train_test_split\n",
    "from sklearn.neural_network import MLPClassifier\n",
    "from sklearn.svm import SVC\n",
    "from sklearn.ensemble import VotingClassifier, StackingClassifier\n",
    "from sklearn.neighbors import KNeighborsClassifier\n",
    "from sklearn.metrics import accuracy_score, f1_score, classification_report, confusion_matrix\n",
    "from xgboost import XGBClassifier\n",
    "import matplotlib.pyplot as plt\n",
    "import seaborn as sns\n",
    "nlp = spacy.load(\"en_core_web_sm\")\n",
    "\n",
    "\n",
    "data = pd.read_csv('../stockMarket_predict/archive/reliance/finaldata_updated_labels.csv')\n"
   ]
  },
  {
   "cell_type": "code",
   "execution_count": 385,
   "id": "7206635f",
   "metadata": {},
   "outputs": [
    {
     "data": {
      "text/html": [
       "<div>\n",
       "<style scoped>\n",
       "    .dataframe tbody tr th:only-of-type {\n",
       "        vertical-align: middle;\n",
       "    }\n",
       "\n",
       "    .dataframe tbody tr th {\n",
       "        vertical-align: top;\n",
       "    }\n",
       "\n",
       "    .dataframe thead th {\n",
       "        text-align: right;\n",
       "    }\n",
       "</style>\n",
       "<table border=\"1\" class=\"dataframe\">\n",
       "  <thead>\n",
       "    <tr style=\"text-align: right;\">\n",
       "      <th></th>\n",
       "      <th>Unnamed: 0</th>\n",
       "      <th>Open</th>\n",
       "      <th>Date</th>\n",
       "      <th>Close</th>\n",
       "      <th>Subjectivity</th>\n",
       "      <th>Polarity</th>\n",
       "      <th>Compound</th>\n",
       "      <th>Negative</th>\n",
       "      <th>Neutral</th>\n",
       "      <th>Positive</th>\n",
       "      <th>label</th>\n",
       "      <th>headlines</th>\n",
       "    </tr>\n",
       "  </thead>\n",
       "  <tbody>\n",
       "    <tr>\n",
       "      <th>0</th>\n",
       "      <td>0</td>\n",
       "      <td>540.427307</td>\n",
       "      <td>04-01-2010</td>\n",
       "      <td>532.700500</td>\n",
       "      <td>0.392845</td>\n",
       "      <td>0.026326</td>\n",
       "      <td>0.9349</td>\n",
       "      <td>0.011</td>\n",
       "      <td>0.895</td>\n",
       "      <td>0.094</td>\n",
       "      <td>0</td>\n",
       "      <td>The US financial services major Goldman Sachs ...</td>\n",
       "    </tr>\n",
       "    <tr>\n",
       "      <th>1</th>\n",
       "      <td>1</td>\n",
       "      <td>569.551208</td>\n",
       "      <td>05-01-2010</td>\n",
       "      <td>530.323059</td>\n",
       "      <td>0.353621</td>\n",
       "      <td>0.060470</td>\n",
       "      <td>0.6908</td>\n",
       "      <td>0.079</td>\n",
       "      <td>0.809</td>\n",
       "      <td>0.112</td>\n",
       "      <td>0</td>\n",
       "      <td>Half of the banks in the world will lack an in...</td>\n",
       "    </tr>\n",
       "    <tr>\n",
       "      <th>2</th>\n",
       "      <td>2</td>\n",
       "      <td>534.879883</td>\n",
       "      <td>06-01-2010</td>\n",
       "      <td>538.891846</td>\n",
       "      <td>0.335897</td>\n",
       "      <td>0.086218</td>\n",
       "      <td>0.9558</td>\n",
       "      <td>0.019</td>\n",
       "      <td>0.908</td>\n",
       "      <td>0.073</td>\n",
       "      <td>1</td>\n",
       "      <td>Financial services major Citigroup Incs chief ...</td>\n",
       "    </tr>\n",
       "    <tr>\n",
       "      <th>3</th>\n",
       "      <td>3</td>\n",
       "      <td>538.891846</td>\n",
       "      <td>07-01-2010</td>\n",
       "      <td>547.832092</td>\n",
       "      <td>0.286761</td>\n",
       "      <td>0.064758</td>\n",
       "      <td>0.9899</td>\n",
       "      <td>0.037</td>\n",
       "      <td>0.859</td>\n",
       "      <td>0.105</td>\n",
       "      <td>1</td>\n",
       "      <td>The car finance market is hotting up with ICIC...</td>\n",
       "    </tr>\n",
       "    <tr>\n",
       "      <th>4</th>\n",
       "      <td>4</td>\n",
       "      <td>548.797974</td>\n",
       "      <td>08-01-2010</td>\n",
       "      <td>546.395691</td>\n",
       "      <td>0.383523</td>\n",
       "      <td>-0.012547</td>\n",
       "      <td>0.8849</td>\n",
       "      <td>0.070</td>\n",
       "      <td>0.840</td>\n",
       "      <td>0.091</td>\n",
       "      <td>0</td>\n",
       "      <td>The Royal Bank of Scotland (RBS) will sell par...</td>\n",
       "    </tr>\n",
       "  </tbody>\n",
       "</table>\n",
       "</div>"
      ],
      "text/plain": [
       "   Unnamed: 0        Open        Date       Close  Subjectivity  Polarity  \\\n",
       "0           0  540.427307  04-01-2010  532.700500      0.392845  0.026326   \n",
       "1           1  569.551208  05-01-2010  530.323059      0.353621  0.060470   \n",
       "2           2  534.879883  06-01-2010  538.891846      0.335897  0.086218   \n",
       "3           3  538.891846  07-01-2010  547.832092      0.286761  0.064758   \n",
       "4           4  548.797974  08-01-2010  546.395691      0.383523 -0.012547   \n",
       "\n",
       "   Compound  Negative  Neutral  Positive  label  \\\n",
       "0    0.9349     0.011    0.895     0.094      0   \n",
       "1    0.6908     0.079    0.809     0.112      0   \n",
       "2    0.9558     0.019    0.908     0.073      1   \n",
       "3    0.9899     0.037    0.859     0.105      1   \n",
       "4    0.8849     0.070    0.840     0.091      0   \n",
       "\n",
       "                                           headlines  \n",
       "0  The US financial services major Goldman Sachs ...  \n",
       "1  Half of the banks in the world will lack an in...  \n",
       "2  Financial services major Citigroup Incs chief ...  \n",
       "3  The car finance market is hotting up with ICIC...  \n",
       "4  The Royal Bank of Scotland (RBS) will sell par...  "
      ]
     },
     "execution_count": 385,
     "metadata": {},
     "output_type": "execute_result"
    }
   ],
   "source": [
    "data.head()"
   ]
  },
  {
   "cell_type": "code",
   "execution_count": 386,
   "id": "4da41209",
   "metadata": {},
   "outputs": [
    {
     "data": {
      "text/plain": [
       "(2557, 12)"
      ]
     },
     "execution_count": 386,
     "metadata": {},
     "output_type": "execute_result"
    }
   ],
   "source": [
    "data.shape"
   ]
  },
  {
   "cell_type": "markdown",
   "id": "9604d953",
   "metadata": {},
   "source": [
    "tarihi ayarladım ve sıraladım"
   ]
  },
  {
   "cell_type": "code",
   "execution_count": 387,
   "id": "198c0d02",
   "metadata": {},
   "outputs": [],
   "source": [
    "data[\"Date\"] = pd.to_datetime(data[\"Date\"], format=\"%d-%m-%Y\")\n",
    "data = data.sort_values(\"Date\").reset_index(drop=True)"
   ]
  },
  {
   "cell_type": "markdown",
   "id": "489c4bd5",
   "metadata": {},
   "source": [
    "sequance oluşturma functionu(önceki günlere göre modeli eğitmek için gerekli)"
   ]
  },
  {
   "cell_type": "code",
   "execution_count": 388,
   "id": "7a45a848",
   "metadata": {},
   "outputs": [],
   "source": [
    "def create_sequence(dataframe, sequence_length):\n",
    "    x_seq, y_seq,date_seq = [], [],[]\n",
    "    for i in range(len(dataframe) - sequence_length):\n",
    "        seq= dataframe.iloc[i:i + sequence_length]\n",
    "        x_seq.append(seq.drop(columns=[\"Date\", \"label\"]).values)\n",
    "        y_seq.append(dataframe.iloc[i + sequence_length][\"label\"])\n",
    "        date_seq.append(dataframe.iloc[i + sequence_length][\"Date\"])\n",
    "   \n",
    "    return x_seq, y_seq, date_seq\n",
    "sequence_length = 5\n",
    "X_seq, y_seq, date_seq = create_sequence(data, sequence_length)"
   ]
  },
  {
   "cell_type": "markdown",
   "id": "3c5bcfb1",
   "metadata": {},
   "source": [
    "eksik günleri dolduramadım çünkü veri hazırlanmamış"
   ]
  },
  {
   "cell_type": "markdown",
   "id": "ce116d3e",
   "metadata": {},
   "source": [
    "araya clean atmazsam float error veriyor"
   ]
  },
  {
   "cell_type": "code",
   "execution_count": 389,
   "id": "8afe8a21",
   "metadata": {},
   "outputs": [],
   "source": [
    "def clean_text(text):\n",
    "    if pd.isna(text):\n",
    "        return \"\"\n",
    "    \n",
    "    text = str(text).lower()\n",
    "    text = re.sub(r\"b['\\\"]|['\\\"]\", \"\", text)\n",
    "    text = re.sub(r'<[^>]+>', '', text)\n",
    "    text = re.sub(r'http\\S+|www\\S+|https\\S+', '', text)\n",
    "    text = re.sub(r'\\d+', 'NUMBER', text)\n",
    "    text = re.sub(r'[^\\w\\s.,!?;:]', '', text)\n",
    "    text = re.sub(r'\\s+', ' ', text).strip()\n",
    "    \n",
    "    return text\n",
    "data['Combined'] = data.iloc[:, 2:27].apply(lambda row: ' '.join(row.values.astype(str)), axis=1)\n",
    "data['Cleaned'] = data['Combined'].apply(clean_text)"
   ]
  },
  {
   "cell_type": "markdown",
   "id": "17904bbf",
   "metadata": {},
   "source": [
    "feature extraction"
   ]
  },
  {
   "cell_type": "markdown",
   "id": "eaa414b7",
   "metadata": {},
   "source": [
    "https://www.geeksforgeeks.org/nlp/named-entity-recognition/\n",
    "https://www.geeksforgeeks.org/techtips/what-is-keyword-density/\n",
    "https://www.geeksforgeeks.org/machine-learning/what-is-sentiment-analysis/\n"
   ]
  },
  {
   "cell_type": "code",
   "execution_count": 390,
   "id": "22be8204",
   "metadata": {},
   "outputs": [],
   "source": [
    "def linguistic_features(text):\n",
    "    if not isinstance(text, str):\n",
    "        text = '' if pd.isna(text) else str(text)\n",
    "    words = text.split()\n",
    "    avg_word_len = np.mean([len(w) for w in words]) if words else 0\n",
    "    punct_count = sum([1 for c in text if c in string.punctuation])\n",
    "    cap_ratio = sum([1 for c in text if c.isupper()]) / (len(text) + 1e-9)#1e-9 = 1 × 10^(-9) = 0.000000001 hata önleici\n",
    "    digit_ratio = sum([1 for c in text if c.isdigit()]) / (len(text) + 1e-9)\n",
    "    flesch = flesch_reading_ease(text)\n",
    "    ari = automated_readability_index(text)\n",
    "    return [len(words), avg_word_len, punct_count, cap_ratio, digit_ratio, flesch, ari]\n",
    "ling_df = pd.DataFrame(data['Cleaned'].apply(linguistic_features).tolist(), columns=[\"word_count\", \"avg_word_len\", \"punct_count\", \"cap_ratio\", \"digit_ratio\", \"flesch\", \"ari\"])\n",
    "sia = SentimentIntensityAnalyzer()\n",
    "sentiment_data = data['Cleaned'].apply(lambda x: sia.polarity_scores(x))\n",
    "\n",
    "financial_keywords = ['revenue', 'profit', 'loss', 'earnings', 'sales', 'income', 'cost', 'expense', 'debt', 'equity']\n",
    "def financial_features(text):\n",
    "    text = text.lower()\n",
    "    features = {}\n",
    "    for keyword in financial_keywords:\n",
    "        features[keyword] = text.count(keyword)\n",
    "    return pd.Series(features)\n",
    "financial_data = data['Cleaned'].apply(financial_features)\n",
    "financial_data = financial_data.fillna(0)\n",
    "def ner_features(text):\n",
    "    doc = nlp(text)\n",
    "    counts = {\"PERSON\":0, \"ORG\":0, \"GPE\":0, \"MONEY\":0}\n",
    "    for ent in doc.ents:\n",
    "        if ent.label_ in counts:\n",
    "            counts[ent.label_] += 1\n",
    "    return pd.Series(counts)\n",
    "ner_data = data['Cleaned'].apply(ner_features)\n",
    "ner_data = ner_data.fillna(0)"
   ]
  },
  {
   "cell_type": "markdown",
   "id": "7865e1b0",
   "metadata": {},
   "source": [
    "kelimelerin sıklığına bakıyorum,tek bir vektör halinde çıktı vermesi lazım"
   ]
  },
  {
   "cell_type": "code",
   "execution_count": 391,
   "id": "2a40937d",
   "metadata": {},
   "outputs": [],
   "source": [
    "#ortalama ağırlık kodu\n",
    "def weighted_avg(group, value_col, weight_col):\n",
    "    weights = group[weight_col].abs() + 1e-6\n",
    "    return np.average(group[value_col], weights=weights)\n",
    "\n",
    "\n",
    "daily_aggregated = data.groupby(\"Date\").agg(\n",
    "    Compound_mean=('Compound', 'mean'),\n",
    "    Compound_max=('Compound', 'max'),\n",
    "    Compound_std=('Compound', 'std'),\n",
    "    Positive_mean=('Positive', 'mean'),\n",
    "    Positive_max=('Positive', 'max'),\n",
    "    Negative_mean=('Negative', 'mean'),\n",
    "    Negative_max=('Negative', 'max'),\n",
    "    Neutral_mean=('Neutral', 'mean'),\n",
    "    Neutral_max=('Neutral', 'max'),\n",
    "    headline_count=('headlines', 'count'),\n",
    "    label=('label', 'first')\n",
    ")\n",
    "    \n"
   ]
  },
  {
   "cell_type": "markdown",
   "id": "80fba11c",
   "metadata": {},
   "source": [
    "sequancial "
   ]
  },
  {
   "cell_type": "code",
   "execution_count": 392,
   "id": "8c674a34",
   "metadata": {},
   "outputs": [],
   "source": [
    "if \"label\" in daily_aggregated.columns:\n",
    "    daily_aggregated = daily_aggregated.drop(columns=[\"label\"])\n",
    "\n",
    "labels_per_day = data[['Date', 'label']].drop_duplicates('Date')\n",
    "daily_aggregated = daily_aggregated.merge(labels_per_day, on='Date', how='left')\n",
    "\n",
    "def add_temporal_text_features(df, trend_window=3, momentum_alpha=0.3):\n",
    "    df = df.sort_values('Date').reset_index(drop=True)\n",
    "    df[\"volume_trend\"] = df[\"headline_count\"].diff(periods=trend_window)\n",
    "    df[\"compound_momentum\"] = df[\"Compound_mean\"].diff().ewm(alpha=momentum_alpha).mean()\n",
    "    df[\"pos_trend\"] = df[\"Positive_mean\"].diff(periods=trend_window)\n",
    "    df[\"neg_trend\"] = df[\"Negative_mean\"].diff(periods=trend_window)\n",
    "    return df\n",
    "\n",
    "def add_cross_day_dependencies(df, dependency_window=3, correlation_threshold=0.3):\n",
    "    df = df.sort_values('Date').reset_index(drop=True)\n",
    "    df[\"sentiment_persistence\"] = df[\"Compound_mean\"].shift(1).rolling(dependency_window).corr(df[\"Compound_mean\"])\n",
    "    df[\"label_streak\"] = df[\"label\"].rolling(window=dependency_window).sum()\n",
    "    df[\"compound_pos_corr\"] = df[\"Compound_mean\"].rolling(dependency_window).corr(df[\"Positive_mean\"])\n",
    "    if correlation_threshold is not None:\n",
    "        df[\"compound_pos_corr\"] = df[\"compound_pos_corr\"].where(df[\"compound_pos_corr\"].abs() >= correlation_threshold, 0)\n",
    "    return df\n",
    "\n",
    "daily_aggregated= add_temporal_text_features(daily_aggregated)\n",
    "daily_aggregated = add_cross_day_dependencies(daily_aggregated)\n",
    "daily_aggregated = daily_aggregated.fillna(0)\n",
    "sequence_length = 5\n",
    "X_seq, y_seq, date_seq = create_sequence(daily_aggregated, sequence_length)\n",
    "\n",
    "features=pd.concat([ling_df, sentiment_data.apply(pd.Series), financial_data, ner_data], axis=1)\n",
    "labels= data['label']"
   ]
  },
  {
   "cell_type": "code",
   "execution_count": 393,
   "id": "a5172ba9",
   "metadata": {},
   "outputs": [],
   "source": [
    "X_seq = np.array(X_seq)\n",
    "y_seq = np.array(y_seq)\n",
    "\n",
    "split_index = int(0.8 * len(X_seq))\n",
    "X_train, X_test = X_seq[:split_index], X_seq[split_index:]\n",
    "y_train, y_test = y_seq[:split_index], y_seq[split_index:]\n"
   ]
  },
  {
   "cell_type": "markdown",
   "id": "feeaeeb4",
   "metadata": {},
   "source": [
    "rnn kısmı"
   ]
  },
  {
   "cell_type": "code",
   "execution_count": 394,
   "id": "3a138086",
   "metadata": {},
   "outputs": [
    {
     "name": "stdout",
     "output_type": "stream",
     "text": [
      "All features: ['Date', 'Compound_mean', 'Compound_max', 'Compound_std', 'Positive_mean', 'Positive_max', 'Negative_mean', 'Negative_max', 'Neutral_mean', 'Neutral_max', 'headline_count', 'label', 'volume_trend', 'compound_momentum', 'pos_trend', 'neg_trend', 'sentiment_persistence', 'label_streak', 'compound_pos_corr']\n",
      "X_seq shape: (2552, 5, 17)\n"
     ]
    }
   ],
   "source": [
    "print(\"All features:\", daily_aggregated.columns.tolist())\n",
    "print(\"X_seq shape:\", X_seq.shape) "
   ]
  },
  {
   "cell_type": "markdown",
   "id": "b5886591",
   "metadata": {},
   "source": [
    "https://www.geeksforgeeks.org/deep-learning/long-short-term-memory-lstm-rnn-in-tensorflow\n"
   ]
  },
  {
   "cell_type": "code",
   "execution_count": 395,
   "id": "5e3644fb",
   "metadata": {},
   "outputs": [
    {
     "data": {
      "text/html": [
       "<pre style=\"white-space:pre;overflow-x:auto;line-height:normal;font-family:Menlo,'DejaVu Sans Mono',consolas,'Courier New',monospace\"><span style=\"font-weight: bold\">Model: \"functional_28\"</span>\n",
       "</pre>\n"
      ],
      "text/plain": [
       "\u001b[1mModel: \"functional_28\"\u001b[0m\n"
      ]
     },
     "metadata": {},
     "output_type": "display_data"
    },
    {
     "data": {
      "text/html": [
       "<pre style=\"white-space:pre;overflow-x:auto;line-height:normal;font-family:Menlo,'DejaVu Sans Mono',consolas,'Courier New',monospace\">┏━━━━━━━━━━━━━━━━━━━━━┳━━━━━━━━━━━━━━━━━━━┳━━━━━━━━━━━━┳━━━━━━━━━━━━━━━━━━━┓\n",
       "┃<span style=\"font-weight: bold\"> Layer (type)        </span>┃<span style=\"font-weight: bold\"> Output Shape      </span>┃<span style=\"font-weight: bold\">    Param # </span>┃<span style=\"font-weight: bold\"> Connected to      </span>┃\n",
       "┡━━━━━━━━━━━━━━━━━━━━━╇━━━━━━━━━━━━━━━━━━━╇━━━━━━━━━━━━╇━━━━━━━━━━━━━━━━━━━┩\n",
       "│ text_input          │ (<span style=\"color: #00d7ff; text-decoration-color: #00d7ff\">None</span>, <span style=\"color: #00af00; text-decoration-color: #00af00\">5</span>, <span style=\"color: #00af00; text-decoration-color: #00af00\">15</span>)     │          <span style=\"color: #00af00; text-decoration-color: #00af00\">0</span> │ -                 │\n",
       "│ (<span style=\"color: #0087ff; text-decoration-color: #0087ff\">InputLayer</span>)        │                   │            │                   │\n",
       "├─────────────────────┼───────────────────┼────────────┼───────────────────┤\n",
       "│ lstm_52 (<span style=\"color: #0087ff; text-decoration-color: #0087ff\">LSTM</span>)      │ (<span style=\"color: #00d7ff; text-decoration-color: #00d7ff\">None</span>, <span style=\"color: #00af00; text-decoration-color: #00af00\">5</span>, <span style=\"color: #00af00; text-decoration-color: #00af00\">64</span>)     │     <span style=\"color: #00af00; text-decoration-color: #00af00\">20,480</span> │ text_input[<span style=\"color: #00af00; text-decoration-color: #00af00\">0</span>][<span style=\"color: #00af00; text-decoration-color: #00af00\">0</span>]  │\n",
       "├─────────────────────┼───────────────────┼────────────┼───────────────────┤\n",
       "│ financial_input     │ (<span style=\"color: #00d7ff; text-decoration-color: #00d7ff\">None</span>, <span style=\"color: #00af00; text-decoration-color: #00af00\">5</span>, <span style=\"color: #00af00; text-decoration-color: #00af00\">2</span>)      │          <span style=\"color: #00af00; text-decoration-color: #00af00\">0</span> │ -                 │\n",
       "│ (<span style=\"color: #0087ff; text-decoration-color: #0087ff\">InputLayer</span>)        │                   │            │                   │\n",
       "├─────────────────────┼───────────────────┼────────────┼───────────────────┤\n",
       "│ dropout_72          │ (<span style=\"color: #00d7ff; text-decoration-color: #00d7ff\">None</span>, <span style=\"color: #00af00; text-decoration-color: #00af00\">5</span>, <span style=\"color: #00af00; text-decoration-color: #00af00\">64</span>)     │          <span style=\"color: #00af00; text-decoration-color: #00af00\">0</span> │ lstm_52[<span style=\"color: #00af00; text-decoration-color: #00af00\">0</span>][<span style=\"color: #00af00; text-decoration-color: #00af00\">0</span>]     │\n",
       "│ (<span style=\"color: #0087ff; text-decoration-color: #0087ff\">Dropout</span>)           │                   │            │                   │\n",
       "├─────────────────────┼───────────────────┼────────────┼───────────────────┤\n",
       "│ lstm_53 (<span style=\"color: #0087ff; text-decoration-color: #0087ff\">LSTM</span>)      │ (<span style=\"color: #00d7ff; text-decoration-color: #00d7ff\">None</span>, <span style=\"color: #00af00; text-decoration-color: #00af00\">5</span>, <span style=\"color: #00af00; text-decoration-color: #00af00\">32</span>)     │      <span style=\"color: #00af00; text-decoration-color: #00af00\">4,480</span> │ financial_input[<span style=\"color: #00af00; text-decoration-color: #00af00\">…</span> │\n",
       "├─────────────────────┼───────────────────┼────────────┼───────────────────┤\n",
       "│ attention_24        │ (<span style=\"color: #00d7ff; text-decoration-color: #00d7ff\">None</span>, <span style=\"color: #00af00; text-decoration-color: #00af00\">5</span>, <span style=\"color: #00af00; text-decoration-color: #00af00\">64</span>)     │          <span style=\"color: #00af00; text-decoration-color: #00af00\">0</span> │ dropout_72[<span style=\"color: #00af00; text-decoration-color: #00af00\">0</span>][<span style=\"color: #00af00; text-decoration-color: #00af00\">0</span>], │\n",
       "│ (<span style=\"color: #0087ff; text-decoration-color: #0087ff\">Attention</span>)         │                   │            │ dropout_72[<span style=\"color: #00af00; text-decoration-color: #00af00\">0</span>][<span style=\"color: #00af00; text-decoration-color: #00af00\">0</span>]  │\n",
       "├─────────────────────┼───────────────────┼────────────┼───────────────────┤\n",
       "│ dropout_73          │ (<span style=\"color: #00d7ff; text-decoration-color: #00d7ff\">None</span>, <span style=\"color: #00af00; text-decoration-color: #00af00\">5</span>, <span style=\"color: #00af00; text-decoration-color: #00af00\">32</span>)     │          <span style=\"color: #00af00; text-decoration-color: #00af00\">0</span> │ lstm_53[<span style=\"color: #00af00; text-decoration-color: #00af00\">0</span>][<span style=\"color: #00af00; text-decoration-color: #00af00\">0</span>]     │\n",
       "│ (<span style=\"color: #0087ff; text-decoration-color: #0087ff\">Dropout</span>)           │                   │            │                   │\n",
       "├─────────────────────┼───────────────────┼────────────┼───────────────────┤\n",
       "│ global_average_poo… │ (<span style=\"color: #00d7ff; text-decoration-color: #00d7ff\">None</span>, <span style=\"color: #00af00; text-decoration-color: #00af00\">64</span>)        │          <span style=\"color: #00af00; text-decoration-color: #00af00\">0</span> │ attention_24[<span style=\"color: #00af00; text-decoration-color: #00af00\">0</span>][<span style=\"color: #00af00; text-decoration-color: #00af00\">…</span> │\n",
       "│ (<span style=\"color: #0087ff; text-decoration-color: #0087ff\">GlobalAveragePool…</span> │                   │            │                   │\n",
       "├─────────────────────┼───────────────────┼────────────┼───────────────────┤\n",
       "│ global_average_poo… │ (<span style=\"color: #00d7ff; text-decoration-color: #00d7ff\">None</span>, <span style=\"color: #00af00; text-decoration-color: #00af00\">32</span>)        │          <span style=\"color: #00af00; text-decoration-color: #00af00\">0</span> │ dropout_73[<span style=\"color: #00af00; text-decoration-color: #00af00\">0</span>][<span style=\"color: #00af00; text-decoration-color: #00af00\">0</span>]  │\n",
       "│ (<span style=\"color: #0087ff; text-decoration-color: #0087ff\">GlobalAveragePool…</span> │                   │            │                   │\n",
       "├─────────────────────┼───────────────────┼────────────┼───────────────────┤\n",
       "│ concatenate_24      │ (<span style=\"color: #00d7ff; text-decoration-color: #00d7ff\">None</span>, <span style=\"color: #00af00; text-decoration-color: #00af00\">96</span>)        │          <span style=\"color: #00af00; text-decoration-color: #00af00\">0</span> │ global_average_p… │\n",
       "│ (<span style=\"color: #0087ff; text-decoration-color: #0087ff\">Concatenate</span>)       │                   │            │ global_average_p… │\n",
       "├─────────────────────┼───────────────────┼────────────┼───────────────────┤\n",
       "│ dense_56 (<span style=\"color: #0087ff; text-decoration-color: #0087ff\">Dense</span>)    │ (<span style=\"color: #00d7ff; text-decoration-color: #00d7ff\">None</span>, <span style=\"color: #00af00; text-decoration-color: #00af00\">64</span>)        │      <span style=\"color: #00af00; text-decoration-color: #00af00\">6,208</span> │ concatenate_24[<span style=\"color: #00af00; text-decoration-color: #00af00\">0</span>… │\n",
       "├─────────────────────┼───────────────────┼────────────┼───────────────────┤\n",
       "│ batch_normalizatio… │ (<span style=\"color: #00d7ff; text-decoration-color: #00d7ff\">None</span>, <span style=\"color: #00af00; text-decoration-color: #00af00\">64</span>)        │        <span style=\"color: #00af00; text-decoration-color: #00af00\">256</span> │ dense_56[<span style=\"color: #00af00; text-decoration-color: #00af00\">0</span>][<span style=\"color: #00af00; text-decoration-color: #00af00\">0</span>]    │\n",
       "│ (<span style=\"color: #0087ff; text-decoration-color: #0087ff\">BatchNormalizatio…</span> │                   │            │                   │\n",
       "├─────────────────────┼───────────────────┼────────────┼───────────────────┤\n",
       "│ dropout_74          │ (<span style=\"color: #00d7ff; text-decoration-color: #00d7ff\">None</span>, <span style=\"color: #00af00; text-decoration-color: #00af00\">64</span>)        │          <span style=\"color: #00af00; text-decoration-color: #00af00\">0</span> │ batch_normalizat… │\n",
       "│ (<span style=\"color: #0087ff; text-decoration-color: #0087ff\">Dropout</span>)           │                   │            │                   │\n",
       "├─────────────────────┼───────────────────┼────────────┼───────────────────┤\n",
       "│ dense_57 (<span style=\"color: #0087ff; text-decoration-color: #0087ff\">Dense</span>)    │ (<span style=\"color: #00d7ff; text-decoration-color: #00d7ff\">None</span>, <span style=\"color: #00af00; text-decoration-color: #00af00\">1</span>)         │         <span style=\"color: #00af00; text-decoration-color: #00af00\">65</span> │ dropout_74[<span style=\"color: #00af00; text-decoration-color: #00af00\">0</span>][<span style=\"color: #00af00; text-decoration-color: #00af00\">0</span>]  │\n",
       "└─────────────────────┴───────────────────┴────────────┴───────────────────┘\n",
       "</pre>\n"
      ],
      "text/plain": [
       "┏━━━━━━━━━━━━━━━━━━━━━┳━━━━━━━━━━━━━━━━━━━┳━━━━━━━━━━━━┳━━━━━━━━━━━━━━━━━━━┓\n",
       "┃\u001b[1m \u001b[0m\u001b[1mLayer (type)       \u001b[0m\u001b[1m \u001b[0m┃\u001b[1m \u001b[0m\u001b[1mOutput Shape     \u001b[0m\u001b[1m \u001b[0m┃\u001b[1m \u001b[0m\u001b[1m   Param #\u001b[0m\u001b[1m \u001b[0m┃\u001b[1m \u001b[0m\u001b[1mConnected to     \u001b[0m\u001b[1m \u001b[0m┃\n",
       "┡━━━━━━━━━━━━━━━━━━━━━╇━━━━━━━━━━━━━━━━━━━╇━━━━━━━━━━━━╇━━━━━━━━━━━━━━━━━━━┩\n",
       "│ text_input          │ (\u001b[38;5;45mNone\u001b[0m, \u001b[38;5;34m5\u001b[0m, \u001b[38;5;34m15\u001b[0m)     │          \u001b[38;5;34m0\u001b[0m │ -                 │\n",
       "│ (\u001b[38;5;33mInputLayer\u001b[0m)        │                   │            │                   │\n",
       "├─────────────────────┼───────────────────┼────────────┼───────────────────┤\n",
       "│ lstm_52 (\u001b[38;5;33mLSTM\u001b[0m)      │ (\u001b[38;5;45mNone\u001b[0m, \u001b[38;5;34m5\u001b[0m, \u001b[38;5;34m64\u001b[0m)     │     \u001b[38;5;34m20,480\u001b[0m │ text_input[\u001b[38;5;34m0\u001b[0m][\u001b[38;5;34m0\u001b[0m]  │\n",
       "├─────────────────────┼───────────────────┼────────────┼───────────────────┤\n",
       "│ financial_input     │ (\u001b[38;5;45mNone\u001b[0m, \u001b[38;5;34m5\u001b[0m, \u001b[38;5;34m2\u001b[0m)      │          \u001b[38;5;34m0\u001b[0m │ -                 │\n",
       "│ (\u001b[38;5;33mInputLayer\u001b[0m)        │                   │            │                   │\n",
       "├─────────────────────┼───────────────────┼────────────┼───────────────────┤\n",
       "│ dropout_72          │ (\u001b[38;5;45mNone\u001b[0m, \u001b[38;5;34m5\u001b[0m, \u001b[38;5;34m64\u001b[0m)     │          \u001b[38;5;34m0\u001b[0m │ lstm_52[\u001b[38;5;34m0\u001b[0m][\u001b[38;5;34m0\u001b[0m]     │\n",
       "│ (\u001b[38;5;33mDropout\u001b[0m)           │                   │            │                   │\n",
       "├─────────────────────┼───────────────────┼────────────┼───────────────────┤\n",
       "│ lstm_53 (\u001b[38;5;33mLSTM\u001b[0m)      │ (\u001b[38;5;45mNone\u001b[0m, \u001b[38;5;34m5\u001b[0m, \u001b[38;5;34m32\u001b[0m)     │      \u001b[38;5;34m4,480\u001b[0m │ financial_input[\u001b[38;5;34m…\u001b[0m │\n",
       "├─────────────────────┼───────────────────┼────────────┼───────────────────┤\n",
       "│ attention_24        │ (\u001b[38;5;45mNone\u001b[0m, \u001b[38;5;34m5\u001b[0m, \u001b[38;5;34m64\u001b[0m)     │          \u001b[38;5;34m0\u001b[0m │ dropout_72[\u001b[38;5;34m0\u001b[0m][\u001b[38;5;34m0\u001b[0m], │\n",
       "│ (\u001b[38;5;33mAttention\u001b[0m)         │                   │            │ dropout_72[\u001b[38;5;34m0\u001b[0m][\u001b[38;5;34m0\u001b[0m]  │\n",
       "├─────────────────────┼───────────────────┼────────────┼───────────────────┤\n",
       "│ dropout_73          │ (\u001b[38;5;45mNone\u001b[0m, \u001b[38;5;34m5\u001b[0m, \u001b[38;5;34m32\u001b[0m)     │          \u001b[38;5;34m0\u001b[0m │ lstm_53[\u001b[38;5;34m0\u001b[0m][\u001b[38;5;34m0\u001b[0m]     │\n",
       "│ (\u001b[38;5;33mDropout\u001b[0m)           │                   │            │                   │\n",
       "├─────────────────────┼───────────────────┼────────────┼───────────────────┤\n",
       "│ global_average_poo… │ (\u001b[38;5;45mNone\u001b[0m, \u001b[38;5;34m64\u001b[0m)        │          \u001b[38;5;34m0\u001b[0m │ attention_24[\u001b[38;5;34m0\u001b[0m][\u001b[38;5;34m…\u001b[0m │\n",
       "│ (\u001b[38;5;33mGlobalAveragePool…\u001b[0m │                   │            │                   │\n",
       "├─────────────────────┼───────────────────┼────────────┼───────────────────┤\n",
       "│ global_average_poo… │ (\u001b[38;5;45mNone\u001b[0m, \u001b[38;5;34m32\u001b[0m)        │          \u001b[38;5;34m0\u001b[0m │ dropout_73[\u001b[38;5;34m0\u001b[0m][\u001b[38;5;34m0\u001b[0m]  │\n",
       "│ (\u001b[38;5;33mGlobalAveragePool…\u001b[0m │                   │            │                   │\n",
       "├─────────────────────┼───────────────────┼────────────┼───────────────────┤\n",
       "│ concatenate_24      │ (\u001b[38;5;45mNone\u001b[0m, \u001b[38;5;34m96\u001b[0m)        │          \u001b[38;5;34m0\u001b[0m │ global_average_p… │\n",
       "│ (\u001b[38;5;33mConcatenate\u001b[0m)       │                   │            │ global_average_p… │\n",
       "├─────────────────────┼───────────────────┼────────────┼───────────────────┤\n",
       "│ dense_56 (\u001b[38;5;33mDense\u001b[0m)    │ (\u001b[38;5;45mNone\u001b[0m, \u001b[38;5;34m64\u001b[0m)        │      \u001b[38;5;34m6,208\u001b[0m │ concatenate_24[\u001b[38;5;34m0\u001b[0m… │\n",
       "├─────────────────────┼───────────────────┼────────────┼───────────────────┤\n",
       "│ batch_normalizatio… │ (\u001b[38;5;45mNone\u001b[0m, \u001b[38;5;34m64\u001b[0m)        │        \u001b[38;5;34m256\u001b[0m │ dense_56[\u001b[38;5;34m0\u001b[0m][\u001b[38;5;34m0\u001b[0m]    │\n",
       "│ (\u001b[38;5;33mBatchNormalizatio…\u001b[0m │                   │            │                   │\n",
       "├─────────────────────┼───────────────────┼────────────┼───────────────────┤\n",
       "│ dropout_74          │ (\u001b[38;5;45mNone\u001b[0m, \u001b[38;5;34m64\u001b[0m)        │          \u001b[38;5;34m0\u001b[0m │ batch_normalizat… │\n",
       "│ (\u001b[38;5;33mDropout\u001b[0m)           │                   │            │                   │\n",
       "├─────────────────────┼───────────────────┼────────────┼───────────────────┤\n",
       "│ dense_57 (\u001b[38;5;33mDense\u001b[0m)    │ (\u001b[38;5;45mNone\u001b[0m, \u001b[38;5;34m1\u001b[0m)         │         \u001b[38;5;34m65\u001b[0m │ dropout_74[\u001b[38;5;34m0\u001b[0m][\u001b[38;5;34m0\u001b[0m]  │\n",
       "└─────────────────────┴───────────────────┴────────────┴───────────────────┘\n"
      ]
     },
     "metadata": {},
     "output_type": "display_data"
    },
    {
     "data": {
      "text/html": [
       "<pre style=\"white-space:pre;overflow-x:auto;line-height:normal;font-family:Menlo,'DejaVu Sans Mono',consolas,'Courier New',monospace\"><span style=\"font-weight: bold\"> Total params: </span><span style=\"color: #00af00; text-decoration-color: #00af00\">31,489</span> (123.00 KB)\n",
       "</pre>\n"
      ],
      "text/plain": [
       "\u001b[1m Total params: \u001b[0m\u001b[38;5;34m31,489\u001b[0m (123.00 KB)\n"
      ]
     },
     "metadata": {},
     "output_type": "display_data"
    },
    {
     "data": {
      "text/html": [
       "<pre style=\"white-space:pre;overflow-x:auto;line-height:normal;font-family:Menlo,'DejaVu Sans Mono',consolas,'Courier New',monospace\"><span style=\"font-weight: bold\"> Trainable params: </span><span style=\"color: #00af00; text-decoration-color: #00af00\">31,361</span> (122.50 KB)\n",
       "</pre>\n"
      ],
      "text/plain": [
       "\u001b[1m Trainable params: \u001b[0m\u001b[38;5;34m31,361\u001b[0m (122.50 KB)\n"
      ]
     },
     "metadata": {},
     "output_type": "display_data"
    },
    {
     "data": {
      "text/html": [
       "<pre style=\"white-space:pre;overflow-x:auto;line-height:normal;font-family:Menlo,'DejaVu Sans Mono',consolas,'Courier New',monospace\"><span style=\"font-weight: bold\"> Non-trainable params: </span><span style=\"color: #00af00; text-decoration-color: #00af00\">128</span> (512.00 B)\n",
       "</pre>\n"
      ],
      "text/plain": [
       "\u001b[1m Non-trainable params: \u001b[0m\u001b[38;5;34m128\u001b[0m (512.00 B)\n"
      ]
     },
     "metadata": {},
     "output_type": "display_data"
    }
   ],
   "source": [
    "import tensorflow as tf\n",
    "from tensorflow.keras.layers import Input, LSTM, Dropout, Dense, Concatenate, BatchNormalization, Attention\n",
    "from tensorflow.keras.models import Model\n",
    "from tensorflow.keras.layers import Input, LSTM, Dropout, Dense, Concatenate, BatchNormalization, Attention, Lambda\n",
    "from tensorflow.keras.layers import GlobalAveragePooling1D\n",
    "\n",
    "sequence_length = 5\n",
    "num_text_features = 15  #ilk deneme 15 e 2 idi, 0.98 çıktı 14-3 denedim yine 0.98 çıktı featurelerin ayrımı accuracyi etklimiyor???\n",
    "num_fin_features = 2   \n",
    "\n",
    "lstm_units_text = 64 \n",
    "lstm_units_financial = 32 #128 yapcam 128 den sonra sadece 0 tahmin etmeye başladı düzelticem\n",
    "dropout_rate = 0.2\n",
    "dense_units = 64    #128 yapıcam\n",
    "final_dropout = 0  #dropout değerlerini düşürdüm 0 tahmin etmesin sadece diye\n",
    "\n",
    "text_input = Input(shape=(sequence_length, num_text_features), name=\"text_input\")\n",
    "fin_input = Input(shape=(sequence_length, num_fin_features), name=\"financial_input\")\n",
    "x_text = LSTM(lstm_units_text, return_sequences=True)(text_input)\n",
    "x_text = Dropout(dropout_rate)(x_text)\n",
    "attention_output = Attention()([x_text, x_text])\n",
    "x_text = GlobalAveragePooling1D()(attention_output)\n",
    "\n",
    "x_fin = LSTM(lstm_units_financial, return_sequences=True)(fin_input)\n",
    "x_fin = Dropout(dropout_rate)(x_fin)\n",
    "\n",
    "x_fin = GlobalAveragePooling1D()(x_fin)\n",
    "\n",
    "x = Concatenate()([x_text, x_fin])\n",
    "x = Dense(dense_units, activation=\"relu\")(x)\n",
    "x = BatchNormalization()(x)\n",
    "x = Dropout(final_dropout)(x)\n",
    "output = Dense(1, activation=\"sigmoid\")(x)\n",
    "\n",
    "model = Model(inputs=[text_input, fin_input], outputs=output)\n",
    "model.compile(optimizer='adam', loss='binary_crossentropy', metrics=['accuracy'])\n",
    "model.summary()\n"
   ]
  },
  {
   "cell_type": "code",
   "execution_count": null,
   "id": "183cba55",
   "metadata": {},
   "outputs": [
    {
     "name": "stdout",
     "output_type": "stream",
     "text": [
      "Epoch 1/20\n"
     ]
    },
    {
     "name": "stderr",
     "output_type": "stream",
     "text": [
      "C:\\Users\\halil melih\\AppData\\Roaming\\Python\\Python312\\site-packages\\keras\\src\\models\\functional.py:225: UserWarning: The structure of `inputs` doesn't match the expected structure: ['text_input', 'financial_input']. Received: the structure of inputs=('*', '*')\n",
      "  warnings.warn(\n"
     ]
    },
    {
     "name": "stdout",
     "output_type": "stream",
     "text": [
      "\u001b[1m64/64\u001b[0m \u001b[32m━━━━━━━━━━━━━━━━━━━━\u001b[0m\u001b[37m\u001b[0m \u001b[1m4s\u001b[0m 9ms/step - accuracy: 0.4990 - loss: 0.7392 - val_accuracy: 0.5323 - val_loss: 0.6915\n",
      "Epoch 2/20\n",
      "\u001b[1m64/64\u001b[0m \u001b[32m━━━━━━━━━━━━━━━━━━━━\u001b[0m\u001b[37m\u001b[0m \u001b[1m0s\u001b[0m 4ms/step - accuracy: 0.5243 - loss: 0.7054 - val_accuracy: 0.5323 - val_loss: 0.6924\n",
      "Epoch 3/20\n",
      "\u001b[1m64/64\u001b[0m \u001b[32m━━━━━━━━━━━━━━━━━━━━\u001b[0m\u001b[37m\u001b[0m \u001b[1m0s\u001b[0m 4ms/step - accuracy: 0.5202 - loss: 0.6969 - val_accuracy: 0.5323 - val_loss: 0.6943\n",
      "Epoch 4/20\n",
      "\u001b[1m64/64\u001b[0m \u001b[32m━━━━━━━━━━━━━━━━━━━━\u001b[0m\u001b[37m\u001b[0m \u001b[1m0s\u001b[0m 4ms/step - accuracy: 0.5071 - loss: 0.7053 - val_accuracy: 0.4481 - val_loss: 0.6989\n",
      "Epoch 5/20\n",
      "\u001b[1m64/64\u001b[0m \u001b[32m━━━━━━━━━━━━━━━━━━━━\u001b[0m\u001b[37m\u001b[0m \u001b[1m0s\u001b[0m 4ms/step - accuracy: 0.5156 - loss: 0.6951 - val_accuracy: 0.4932 - val_loss: 0.6982\n",
      "Epoch 6/20\n",
      "\u001b[1m64/64\u001b[0m \u001b[32m━━━━━━━━━━━━━━━━━━━━\u001b[0m\u001b[37m\u001b[0m \u001b[1m0s\u001b[0m 4ms/step - accuracy: 0.5285 - loss: 0.6957 - val_accuracy: 0.4990 - val_loss: 0.6982\n",
      "\u001b[1m16/16\u001b[0m \u001b[32m━━━━━━━━━━━━━━━━━━━━\u001b[0m\u001b[37m\u001b[0m \u001b[1m1s\u001b[0m 20ms/step\n",
      "              precision    recall  f1-score   support\n",
      "\n",
      "           0       0.51      0.42      0.46       272\n",
      "           1       0.45      0.54      0.49       239\n",
      "\n",
      "    accuracy                           0.48       511\n",
      "   macro avg       0.48      0.48      0.47       511\n",
      "weighted avg       0.48      0.48      0.47       511\n",
      "\n"
     ]
    },
    {
     "data": {
      "image/png": "[encoded data removed]",
      "text/plain": [
       "<Figure size 640x480 with 1 Axes>"
      ]
     },
     "metadata": {},
     "output_type": "display_data"
    }
   ],
   "source": [
    "from tensorflow.keras.callbacks import EarlyStopping\n",
    "text_features = X_seq[:, :, :num_text_features]\n",
    "fin_features = X_seq[:, :, num_text_features:]\n",
    "X_text_train, X_text_test = text_features[:split_index], text_features[split_index:]\n",
    "X_fin_train, X_fin_test = fin_features[:split_index], fin_features[split_index:]\n",
    "\n",
    "\n",
    "early_stop = EarlyStopping(monitor='val_loss', patience=5, restore_best_weights=True)\n",
    "history = model.fit(\n",
    "    [X_text_train, X_fin_train],\n",
    "    y_train,\n",
    "    validation_data=([X_text_test, X_fin_test], y_test),\n",
    "    epochs=20,\n",
    "    batch_size=32,\n",
    "    callbacks=[early_stop]\n",
    ")\n",
    "\n",
    "y_pred_probs = model.predict([X_text_test, X_fin_test])\n",
    "y_pred = (y_pred_probs > 0.46).astype(int)\n",
    "\n",
    "print(classification_report(y_test, y_pred))\n",
    "\n",
    "plt.plot(history.history['loss'], label='Train Loss')\n",
    "plt.plot(history.history['val_loss'], label='Val Loss')\n",
    "plt.title('Loss During Training')\n",
    "plt.xlabel('Epoch')\n",
    "plt.ylabel('Loss')\n",
    "plt.legend()\n",
    "plt.show()\n"
   ]
  },
  {
   "cell_type": "code",
   "execution_count": 397,
   "id": "90c54497",
   "metadata": {},
   "outputs": [
    {
     "name": "stderr",
     "output_type": "stream",
     "text": [
      "WARNING:absl:You are saving your model as an HDF5 file via `model.save()` or `keras.saving.save_model(model)`. This file format is considered legacy. We recommend using instead the native Keras format, e.g. `model.save('my_model.keras')` or `keras.saving.save_model(model, 'my_model.keras')`. \n"
     ]
    },
    {
     "name": "stdout",
     "output_type": "stream",
     "text": [
      "Model Accuracy: 0.4755\n"
     ]
    }
   ],
   "source": [
    "\n",
    "import pickle\n",
    "import joblib\n",
    "model.save('lstm_model.h5')\n",
    "preprocessing_components = {\n",
    "    'sequence_length': sequence_length,\n",
    "    'num_text_features': num_text_features,\n",
    "    'num_fin_features': num_fin_features,\n",
    "    'financial_keywords': financial_keywords,\n",
    "    'split_index': split_index\n",
    "}\n",
    "with open('preprocessing_components.pkl', 'wb') as f:\n",
    "    pickle.dump(preprocessing_components, f)\n",
    "accuracy = accuracy_score(y_test, y_pred)\n",
    "print(f\"Model Accuracy: {accuracy:.4f}\")"
   ]
  },
  {
   "cell_type": "code",
   "execution_count": 398,
   "id": "422f6cce",
   "metadata": {},
   "outputs": [
    {
     "name": "stdout",
     "output_type": "stream",
     "text": [
      "\u001b[1m16/16\u001b[0m \u001b[32m━━━━━━━━━━━━━━━━━━━━\u001b[0m\u001b[37m\u001b[0m \u001b[1m0s\u001b[0m 2ms/step \n",
      "Olasılık Aralığı: 0.45081863 → 0.4817719\n"
     ]
    },
    {
     "data": {
      "image/png": "[encoded data removed]",
      "text/plain": [
       "<Figure size 640x480 with 1 Axes>"
      ]
     },
     "metadata": {},
     "output_type": "display_data"
    },
    {
     "name": "stdout",
     "output_type": "stream",
     "text": [
      "Min olasılık: 0.45081863\n",
      "Max olasılık: 0.4817719\n",
      "Tüm feature'ların varyansı: 0.33701707516982704\n",
      "Text input varyans: 0.22140939180121247\n",
      "Fin input varyans: 0.6655987449039245\n",
      "Toplam feature: 17\n",
      "Beklenen toplam: 17\n"
     ]
    },
    {
     "data": {
      "image/png": "[encoded data removed]",
      "text/plain": [
       "<Figure size 640x480 with 1 Axes>"
      ]
     },
     "metadata": {},
     "output_type": "display_data"
    }
   ],
   "source": [
    "\n",
    "###hatayı bulmak için yazdım\n",
    "probs = model.predict([X_text_test, X_fin_test])\n",
    "print(\"Olasılık Aralığı:\", probs.min(), \"→\", probs.max())\n",
    "\n",
    "plt.hist(probs, bins=50)\n",
    "plt.title(\"Model Olasılık Dağılımı\")\n",
    "plt.xlabel(\"Olasılık\")\n",
    "plt.ylabel(\"Frekans\")\n",
    "plt.show()\n",
    "print(\"Min olasılık:\", y_pred_probs.min())\n",
    "print(\"Max olasılık:\", y_pred_probs.max())\n",
    "plt.plot(history.history['loss'], label='Train Loss')\n",
    "plt.plot(history.history['val_loss'], label='Val Loss')\n",
    "print(\"Tüm feature'ların varyansı:\", np.var(X_seq))\n",
    "print(\"Text input varyans:\", np.var(X_text_train))\n",
    "print(\"Fin input varyans:\", np.var(X_fin_train))\n",
    "print(\"Toplam feature:\", X_seq.shape[2])\n",
    "print(\"Beklenen toplam:\", num_text_features + num_fin_features)\n",
    "\n",
    "\n"
   ]
  }
 ],
 "metadata": {
  "kernelspec": {
   "display_name": "Python 3",
   "language": "python",
   "name": "python3"
  },
  "language_info": {
   "codemirror_mode": {
    "name": "ipython",
    "version": 3
   },
   "file_extension": ".py",
   "mimetype": "text/x-python",
   "name": "python",
   "nbconvert_exporter": "python",
   "pygments_lexer": "ipython3",
   "version": "3.12.6"
  }
 },
 "nbformat": 4,
 "nbformat_minor": 5
}
