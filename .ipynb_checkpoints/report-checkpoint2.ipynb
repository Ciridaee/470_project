{
 "cells": [
  {
   "cell_type": "markdown",
   "id": "9cd9448f",
   "metadata": {},
   "source": [
    "Yöntem 1 Jupyter Notebook\n",
    "Halil Melih AKÇA 221104091\n"
   ]
  },
  {
   "cell_type": "markdown",
   "id": "91d0cde0",
   "metadata": {},
   "source": [
    "Veri YÜkleme Ve Temizleme kısmı"
   ]
  },
  {
   "cell_type": "code",
   "execution_count": 9,
   "id": "c2dbddc1",
   "metadata": {},
   "outputs": [
    {
     "name": "stderr",
     "output_type": "stream",
     "text": [
      "[nltk_data] Downloading package punkt to C:\\Users\\halil\n",
      "[nltk_data]     melih/nltk_data...\n",
      "[nltk_data]   Unzipping tokenizers\\punkt.zip.\n",
      "[nltk_data] Downloading package vader_lexicon to C:\\Users\\halil\n",
      "[nltk_data]     melih/nltk_data...\n",
      "[nltk_data]   Package vader_lexicon is already up-to-date!\n"
     ]
    }
   ],
   "source": [
    "import pandas as pd\n",
    "import numpy as np\n",
    "import re\n",
    "import string\n",
    "import spacy\n",
    "import matplotlib.pyplot as plt\n",
    "import seaborn as sns\n",
    "\n",
    "from sklearn.model_selection import train_test_split\n",
    "from sklearn.preprocessing import StandardScaler, PolynomialFeatures\n",
    "from sklearn.metrics import accuracy_score, f1_score, classification_report, confusion_matrix\n",
    "from sklearn.feature_extraction.text import TfidfVectorizer\n",
    "from sklearn.decomposition import PCA\n",
    "\n",
    "from sklearn.neural_network import MLPClassifier\n",
    "from sklearn.svm import SVC\n",
    "from sklearn.neighbors import KNeighborsClassifier\n",
    "from xgboost import XGBClassifier\n",
    "from sklearn.ensemble import VotingClassifier\n",
    "from sklearn.utils.class_weight import compute_sample_weight\n",
    "\n",
    "import pickle\n",
    "from textstat import flesch_reading_ease, automated_readability_index\n",
    "from nltk.sentiment.vader import SentimentIntensityAnalyzer\n",
    "import nltk\n",
    "\n",
    "nltk.download(\"punkt\")\n",
    "nltk.download(\"vader_lexicon\")\n",
    "\n",
    "# Veri kümesi yükleme\n",
    "df = pd.read_csv(\"../stockMarket_predict/Combined_News_DJIA.csv\")"
   ]
  },
  {
   "cell_type": "code",
   "execution_count": 10,
   "id": "c749e328",
   "metadata": {},
   "outputs": [],
   "source": [
    "def clean_text(text):\n",
    "    if pd.isna(text): return \"\"\n",
    "    text = str(text).lower()\n",
    "    text = re.sub(r\"b['\\\"]|['\\\"]\", \"\", text)\n",
    "    text = re.sub(r'<[^>]+>', '', text)\n",
    "    text = re.sub(r'http\\S+|www\\S+|https\\S+', '', text)\n",
    "    text = re.sub(r'\\d+', 'NUMBER', text)\n",
    "    text = re.sub(r'[^\\w\\s.,!?;:]', '', text)\n",
    "    return re.sub(r'\\s+', ' ', text).strip()\n",
    "\n",
    "df['Combined'] = df.iloc[:, 2:27].apply(lambda row: ' '.join(row.values.astype(str)), axis=1)\n",
    "df['Cleaned'] = df['Combined'].apply(clean_text)\n",
    "\n",
    "def basic_text_stats(text):\n",
    "    words = text.split()\n",
    "    avg_len = np.mean([len(w) for w in words]) if words else 0\n",
    "    punct = sum(c in string.punctuation for c in text)\n",
    "    caps = sum(c.isupper() for c in text) / (len(text) + 1e-9)\n",
    "    digits = sum(c.isdigit() for c in text) / (len(text) + 1e-9)\n",
    "    flesch = flesch_reading_ease(text)\n",
    "    ari = automated_readability_index(text)\n",
    "    return [len(words), avg_len, punct, caps, digits, flesch, ari]\n",
    "\n",
    "stats_df = pd.DataFrame(df['Cleaned'].apply(basic_text_stats).tolist(), columns=[\n",
    "    \"word_count\", \"avg_word_len\", \"punct_count\", \"cap_ratio\", \"digit_ratio\", \"flesch\", \"ari\"\n",
    "])\n",
    "\n",
    "sia = SentimentIntensityAnalyzer()\n",
    "sentiment_df = df['Cleaned'].apply(lambda x: pd.Series(sia.polarity_scores(x)))\n",
    "\n",
    "keywords = ['revenue', 'profit', 'loss', 'earnings', 'sales', 'income', 'cost', 'expense', 'debt', 'equity']\n",
    "def keyword_density(text):\n",
    "    tokens = text.lower().split()\n",
    "    return [tokens.count(word)/len(tokens) if tokens else 0 for word in keywords]\n",
    "\n",
    "keyword_df = pd.DataFrame(df['Cleaned'].apply(keyword_density).tolist(), columns=[f'kw_{w}' for w in keywords])\n"
   ]
  },
  {
   "cell_type": "code",
   "execution_count": 11,
   "id": "c0fedf98",
   "metadata": {},
   "outputs": [],
   "source": [
    "nlp = spacy.load(\"en_core_web_sm\")\n",
    "def pos_ratios(text):\n",
    "    doc = nlp(text)\n",
    "    total = len(doc)\n",
    "    return [\n",
    "        len([t for t in doc if t.pos_ == \"NOUN\"]) / total,\n",
    "        len([t for t in doc if t.pos_ == \"VERB\"]) / total,\n",
    "        len([t for t in doc if t.pos_ == \"ADJ\"]) / total,\n",
    "        len([t for t in doc if t.pos_ == \"ADV\"]) / total\n",
    "    ] if total > 0 else [0, 0, 0, 0]\n",
    "\n",
    "pos_df = pd.DataFrame(df['Cleaned'].apply(pos_ratios).tolist(), columns=[\"noun_ratio\", \"verb_ratio\", \"adj_ratio\", \"adv_ratio\"])\n",
    "\n",
    "tfidf = TfidfVectorizer(max_features=2000, ngram_range=(1,2), min_df=2, max_df=0.95, stop_words='english')\n",
    "tfidf_matrix = tfidf.fit_transform(df['Cleaned'])\n",
    "tfidf_pca = PCA(n_components=50).fit_transform(tfidf_matrix.toarray())\n",
    "tfidf_df = pd.DataFrame(tfidf_pca, columns=[f'pca_{i}' for i in range(50)])"
   ]
  },
  {
   "cell_type": "code",
   "execution_count": 12,
   "id": "41c45f8f",
   "metadata": {},
   "outputs": [],
   "source": [
    "features = pd.concat([stats_df, sentiment_df, keyword_df, pos_df, tfidf_df], axis=1)\n",
    "labels = df['Label']"
   ]
  },
  {
   "cell_type": "markdown",
   "id": "1016333a",
   "metadata": {},
   "source": [
    "TF-IDF"
   ]
  },
  {
   "cell_type": "code",
   "execution_count": 13,
   "id": "3bc461c1",
   "metadata": {},
   "outputs": [],
   "source": [
    "scaler = StandardScaler()\n",
    "X_scaled = scaler.fit_transform(features)\n",
    "poly = PolynomialFeatures(degree=2, interaction_only=True)\n",
    "X_poly = poly.fit_transform(X_scaled)"
   ]
  },
  {
   "cell_type": "markdown",
   "id": "805c62e6",
   "metadata": {},
   "source": [
    "Birleştirme\n"
   ]
  },
  {
   "cell_type": "code",
   "execution_count": 14,
   "id": "587fb8e7",
   "metadata": {},
   "outputs": [],
   "source": [
    "X_train, X_test, y_train, y_test = train_test_split(X_poly, labels, test_size=0.2, random_state=42)\n",
    "weights = compute_sample_weight(class_weight=\"balanced\", y=y_train)\n"
   ]
  },
  {
   "cell_type": "markdown",
   "id": "700457bd",
   "metadata": {},
   "source": [
    "Adım 4 ü yapmadım."
   ]
  },
  {
   "cell_type": "code",
   "execution_count": null,
   "id": "764ffc98",
   "metadata": {},
   "outputs": [],
   "source": [
    "mlp = MLPClassifier(hidden_layer_sizes=(128, 64, 32), max_iter=300, random_state=42)\n",
    "svm = SVC(kernel=\"rbf\", probability=True, class_weight=\"balanced\", random_state=42)\n",
    "pos = sum(y_train == 1)\n",
    "neg = sum(y_train == 0)\n",
    "xgb = XGBClassifier(n_estimators=100, max_depth=4, learning_rate=0.1, scale_pos_weight=neg/pos, random_state=42)\n",
    "knn = KNeighborsClassifier(n_neighbors=5)\n",
    "\n",
    "ensemble = VotingClassifier(\n",
    "    estimators=[('mlp', mlp), ('svm', svm), ('xgb', xgb), ('knn', knn)],\n",
    "    voting='soft',\n",
    "    weights=[1, 1, 3, 2]\n",
    ")"
   ]
  },
  {
   "cell_type": "code",
   "execution_count": 16,
   "id": "8797e117",
   "metadata": {},
   "outputs": [],
   "source": [
    "ensemble.fit(X_train, y_train)\n",
    "y_pred = ensemble.predict(X_test)\n",
    "for name, obj in [(\"ensemble_model.pkl\", ensemble), (\"scaler.pkl\", scaler), (\"poly.pkl\", poly), (\"pca.pkl\", tfidf_pca), (\"tfidf.pkl\", tfidf)]:\n",
    "    with open(name, \"wb\") as f:\n",
    "        pickle.dump(obj, f)"
   ]
  },
  {
   "cell_type": "code",
   "execution_count": 17,
   "id": "7cf3775f",
   "metadata": {},
   "outputs": [
    {
     "name": "stdout",
     "output_type": "stream",
     "text": [
      "Accuracy: 0.5301507537688442\n",
      "F1 Score: 0.6326129666011788\n",
      "              precision    recall  f1-score   support\n",
      "\n",
      "           0       0.43      0.29      0.35       171\n",
      "           1       0.57      0.71      0.63       227\n",
      "\n",
      "    accuracy                           0.53       398\n",
      "   macro avg       0.50      0.50      0.49       398\n",
      "weighted avg       0.51      0.53      0.51       398\n",
      "\n"
     ]
    },
    {
     "data": {
      "image/png": "[encoded data removed]",
      "text/plain": [
       "<Figure size 640x480 with 2 Axes>"
      ]
     },
     "metadata": {},
     "output_type": "display_data"
    }
   ],
   "source": [
    "def evaluate(model, y_true, y_pred):\n",
    "    print(\"Accuracy:\", accuracy_score(y_true, y_pred))\n",
    "    print(\"F1 Score:\", f1_score(y_true, y_pred))\n",
    "    print(classification_report(y_true, y_pred))\n",
    "    cm = confusion_matrix(y_true, y_pred)\n",
    "    sns.heatmap(cm, annot=True, fmt='d', cmap='Blues')\n",
    "    plt.title(\"Confusion Matrix\")\n",
    "    plt.xlabel(\"Predicted\")\n",
    "    plt.ylabel(\"Actual\")\n",
    "    plt.show()\n",
    "\n",
    "evaluate(ensemble, y_test, y_pred)"
   ]
  },
  {
   "cell_type": "markdown",
   "id": "1bf12bec",
   "metadata": {},
   "source": [
    "Accuracy çok az geldiği için internetten düzeltme örneklerine bakıp referans vereceğim;"
   ]
  },
  {
   "cell_type": "markdown",
   "id": "166e001d",
   "metadata": {},
   "source": [
    "Geçen dönem yaptığım model de de accuracy max 0.53 gelmişti,bunun sebebini araştırdığımda haber verilerinin borsa grafiklerine etkisinin yüzde 3 civarında geldiğini gözlemledim,o yüzden accuracynin az gelmesinin normal olduğu konusunda karar kıldım;"
   ]
  }
 ],
 "metadata": {
  "kernelspec": {
   "display_name": "Python 3",
   "language": "python",
   "name": "python3"
  },
  "language_info": {
   "codemirror_mode": {
    "name": "ipython",
    "version": 3
   },
   "file_extension": ".py",
   "mimetype": "text/x-python",
   "name": "python",
   "nbconvert_exporter": "python",
   "pygments_lexer": "ipython3",
   "version": "3.12.6"
  }
 },
 "nbformat": 4,
 "nbformat_minor": 5
}
